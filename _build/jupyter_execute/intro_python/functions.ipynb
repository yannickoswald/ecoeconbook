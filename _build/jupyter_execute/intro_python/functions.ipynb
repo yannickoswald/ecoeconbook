{
 "cells": [
  {
   "cell_type": "markdown",
   "id": "9eb72ca1",
   "metadata": {},
   "source": [
    "(basics-functions)=\n",
    "# Functions: reusable building blocks of your code\n",
    "\n",
    ":::{tip}\n",
    "**What you’ll learn**\n",
    "- What functions are and why they matter  \n",
    "- How to define and call functions in Python  \n",
    "- How to pass arguments and return values  \n",
    "- Why functions are essential for structuring simulations and analyses  \n",
    ":::\n",
    "\n",
    "---\n",
    "\n",
    "### Introduction\n",
    "\n",
    "So far, we have written code that runs line by line — but what if you want to **reuse** the same logic many times?  \n",
    "Instead of copying and pasting code, we can **wrap** it inside a *function*.\n",
    "\n",
    "In short:  \n",
    "> A **function** is a named block of code that performs a specific task and can be reused anywhere in your program.\n",
    "\n",
    "For ecological economists, this is particularly useful.  \n",
    "For instance, you might want to calculate the same energy intensity or emissions growth across many datasets or years.\n",
    "\n",
    "A function always follows this recipe:"
   ]
  },
  {
   "cell_type": "code",
   "execution_count": 1,
   "id": "4259b459",
   "metadata": {},
   "outputs": [],
   "source": [
    "def function(input):\n",
    "\n",
    "    ## do something with input\n",
    "    output = input * 2 # for example\n",
    "    return output "
   ]
  },
  {
   "cell_type": "markdown",
   "id": "06787dc9",
   "metadata": {},
   "source": [
    "## 1. Your first function\n",
    "\n",
    "Let’s start simple. Suppose we repeatedly need to convert energy from **Gigajoules (GJ)** to **Megawatt-hours (MWh)**.\n",
    "\n",
    "Since \\(1\\text{ MWh} = 3.6\\text{ GJ}\\), we can define a function:"
   ]
  },
  {
   "cell_type": "code",
   "execution_count": 2,
   "id": "13a1d4d2",
   "metadata": {},
   "outputs": [],
   "source": [
    "def gj_to_mwh(energy_gj):\n",
    "    \"\"\"\n",
    "    Convert energy from Gigajoules (GJ) to Megawatt-hours (MWh).\n",
    "    \"\"\"\n",
    "    energy_mwh = energy_gj / 3.6\n",
    "    return energy_mwh"
   ]
  },
  {
   "cell_type": "markdown",
   "id": "3107bf1e",
   "metadata": {},
   "source": [
    "\n",
    "Now we can call this function as often as we like:"
   ]
  },
  {
   "cell_type": "code",
   "execution_count": 3,
   "id": "916201b6",
   "metadata": {},
   "outputs": [
    {
     "name": "stdout",
     "output_type": "stream",
     "text": [
      "50.0\n",
      "20.0\n"
     ]
    }
   ],
   "source": [
    "print(gj_to_mwh(180))\n",
    "print(gj_to_mwh(72))"
   ]
  },
  {
   "cell_type": "markdown",
   "id": "a22fedcb",
   "metadata": {},
   "source": [
    "\n",
    "✅ **Key idea:** a function saves effort and reduces mistakes when repeating the same calculation.\n"
   ]
  },
  {
   "cell_type": "markdown",
   "id": "77c79d41",
   "metadata": {},
   "source": [
    "\n",
    "## 2. Function arguments and return values\n",
    "\n",
    "Every function can take **inputs** (called *arguments*) and give **outputs** (via the `return` keyword).\n",
    "\n",
    "Let’s expand our example. Suppose we want to compute **energy intensity** (energy per GDP) for a country.\n"
   ]
  },
  {
   "cell_type": "code",
   "execution_count": 4,
   "id": "f8ee45c9",
   "metadata": {},
   "outputs": [],
   "source": [
    "def energy_intensity(energy_gj, gdp_usd):\n",
    "    \"\"\"\n",
    "    Compute energy intensity: energy per GDP (GJ per USD).\n",
    "    \"\"\"\n",
    "    return energy_gj / gdp_usd"
   ]
  },
  {
   "cell_type": "markdown",
   "id": "73e93bf1",
   "metadata": {},
   "source": [
    "Now we can reuse it easily across many countries:"
   ]
  },
  {
   "cell_type": "code",
   "execution_count": 5,
   "id": "34c7a6a2",
   "metadata": {},
   "outputs": [
    {
     "name": "stdout",
     "output_type": "stream",
     "text": [
      "Switzerland → 0.0013 GJ per $GDP\n",
      "Austria → 0.0021 GJ per $GDP\n",
      "Germany → 0.0022 GJ per $GDP\n"
     ]
    }
   ],
   "source": [
    "energy_GJ = {\n",
    "    \"Switzerland\": 120,\n",
    "    \"Austria\": 150,\n",
    "    \"Germany\": 180,\n",
    "}\n",
    "\n",
    "gdp_per_capita = {\n",
    "    \"Switzerland\": 95000,\n",
    "    \"Austria\": 70000,\n",
    "    \"Germany\": 80000,\n",
    "}\n",
    "\n",
    "for c in energy_GJ:\n",
    "    ei = energy_intensity(energy_GJ[c], gdp_per_capita[c])\n",
    "    print(c, \"→\", round(ei, 4), \"GJ per $GDP\")"
   ]
  },
  {
   "cell_type": "markdown",
   "id": "de2794e9",
   "metadata": {},
   "source": [
    "\n",
    "This is how you make your code **modular**. Small building blocks that can be combined in larger analyses.\n",
    "\n",
    "---\n",
    "\n",
    "## 3. Functions with conditional logic\n",
    "\n",
    "You can use `if` statements *inside* functions too.\n",
    "\n",
    "Suppose you want to classify whether a country is “low”, “medium”, or “high” energy intensity:"
   ]
  },
  {
   "cell_type": "code",
   "execution_count": 6,
   "id": "2c015faa",
   "metadata": {},
   "outputs": [],
   "source": [
    "def classify_intensity(ei):\n",
    "    \"\"\"\n",
    "    Classify a country's energy intensity into categories.\n",
    "    \"\"\"\n",
    "    if ei > 0.0025:\n",
    "        return \"high\"\n",
    "    elif ei > 0.0015:\n",
    "        return \"medium\"\n",
    "    else:\n",
    "        return \"low\""
   ]
  },
  {
   "cell_type": "markdown",
   "id": "8f3dc1da",
   "metadata": {},
   "source": [
    "\n",
    "Let’s combine it with our earlier loop:"
   ]
  },
  {
   "cell_type": "code",
   "execution_count": 7,
   "id": "1c2ccfe3",
   "metadata": {},
   "outputs": [
    {
     "name": "stdout",
     "output_type": "stream",
     "text": [
      "Switzerland → low energy intensity\n",
      "Austria → medium energy intensity\n",
      "Germany → medium energy intensity\n"
     ]
    }
   ],
   "source": [
    "for c in energy_GJ:\n",
    "    ei = energy_intensity(energy_GJ[c], gdp_per_capita[c])\n",
    "    category = classify_intensity(ei)\n",
    "    print(f\"{c} → {category} energy intensity\")"
   ]
  },
  {
   "cell_type": "markdown",
   "id": "fb40cb7f",
   "metadata": {},
   "source": [
    "Notice how each function does **one thing correct**. This is the essence of clean code.\n",
    "\n",
    "---\n",
    "\n",
    "## 4. Multiple arguments and default values\n",
    "\n",
    "Sometimes you want to allow flexibility — e.g., assume a different energy-to-GDP conversion factor."
   ]
  },
  {
   "cell_type": "code",
   "execution_count": 8,
   "id": "0dc5ee8c",
   "metadata": {},
   "outputs": [],
   "source": [
    "def energy_intensity(energy_gj, gdp_usd, factor=1):\n",
    "    \"\"\"\n",
    "    Compute energy intensity with an optional scaling factor.\n",
    "    \"\"\"\n",
    "    return (energy_gj / gdp_usd) * factor"
   ]
  },
  {
   "cell_type": "markdown",
   "id": "6dbe3d14",
   "metadata": {},
   "source": [
    "Now you can call it either normally or with a custom factor:"
   ]
  },
  {
   "cell_type": "code",
   "execution_count": 9,
   "id": "558867f6",
   "metadata": {},
   "outputs": [
    {
     "name": "stdout",
     "output_type": "stream",
     "text": [
      "0.002142857142857143\n",
      "0.004285714285714286\n"
     ]
    }
   ],
   "source": [
    "print(energy_intensity(150, 70000))           # normal\n",
    "print(energy_intensity(150, 70000, factor=2)) # scaled"
   ]
  },
  {
   "cell_type": "markdown",
   "id": "38f7fee6",
   "metadata": {},
   "source": [
    "\n",
    "Default arguments make your functions adaptable without requiring you to rewrite them.\n",
    "\n",
    "---\n",
    "\n",
    "## 5. Why functions matter in ecological economics\n",
    "\n",
    "Functions are crucial for structuring quantitative models.  \n",
    "Later in the course you will see that they allow us to:\n",
    "\n",
    "- Make scenario calculations cleanly\n",
    "- Compute inequality metrics (e.g., Gini coefficients) in a modular way and correct way\n",
    "- Define agent behaviors (`def decide_investment()`)\n",
    "\n",
    "and much more\n",
    "\n",
    "Think of functions as the **organs** of your code: each performs one vital function, but together they make the whole system work.\n",
    "\n",
    "In your later models (e.g., when we simulate inequality or compute Gini coefficients),  \n",
    "functions will handle key computations like income updates, taxation rules, or saving decisions.\n",
    "\n",
    "---"
   ]
  },
  {
   "cell_type": "markdown",
   "id": "283da560",
   "metadata": {},
   "source": [
    "\n",
    "### 🧩 Exercise\n",
    "\n",
    "Define a function that computes the **percentage change** between two years of per-capita emissions."
   ]
  },
  {
   "cell_type": "code",
   "execution_count": 10,
   "id": "c1d7b7ca",
   "metadata": {
    "tags": [
     "hide-cell"
    ]
   },
   "outputs": [
    {
     "name": "stdout",
     "output_type": "stream",
     "text": [
      "Change: -9.62 %\n"
     ]
    }
   ],
   "source": [
    "def pct_change(old, new):\n",
    "    \"\"\"\n",
    "    Compute percentage change between two values.\n",
    "    \"\"\"\n",
    "    return ((new - old) / old) * 100\n",
    "\n",
    "# Example data\n",
    "emissions_2020 = 5.2\n",
    "emissions_2024 = 4.7\n",
    "\n",
    "change = pct_change(emissions_2020, emissions_2024)\n",
    "print(\"Change:\", round(change, 2), \"%\")"
   ]
  },
  {
   "cell_type": "markdown",
   "id": "bcd81264",
   "metadata": {},
   "source": [
    "\n",
    "\n",
    ":::{dropdown} 💡 *Solution explanation*\n",
    "- The function takes two arguments: the old and new values.  \n",
    "- It computes the relative change in percent.  \n",
    "- Try reversing the order or testing with different values!\n",
    ":::\n",
    "\n",
    "---\n",
    "\n",
    "### Summary\n",
    "\n",
    "| Concept | Description | Example |\n",
    "|----------|--------------|----------|\n",
    "| `def` | defines a function | `def my_function():` |\n",
    "| Arguments | inputs to the function | `(x, y)` |\n",
    "| `return` | outputs from the function | `return x + y` |\n",
    "| Default argument | optional value | `factor=1` |\n",
    "| Combining functions | modular design | use `energy_intensity()` and `classify_intensity()` together |\n",
    "\n",
    "---\n",
    "\n",
    "✅ **Key takeaway:**  \n",
    "Functions make your code *reusable*, *readable*, and *modular*.  \n",
    "They are the foundation for complex models — from computing energy intensities to building agent-based economies.\n",
    "\n",
    "---\n",
    "\n",
    "### Next steps\n",
    "\n",
    "Next, we’ll learn about a key concept in computer science and programming - algorithms. "
   ]
  }
 ],
 "metadata": {
  "kernelspec": {
   "display_name": "Python 3",
   "language": "python",
   "name": "python3"
  },
  "language_info": {
   "codemirror_mode": {
    "name": "ipython",
    "version": 3
   },
   "file_extension": ".py",
   "mimetype": "text/x-python",
   "name": "python",
   "nbconvert_exporter": "python",
   "pygments_lexer": "ipython3",
   "version": "3.11.7"
  }
 },
 "nbformat": 4,
 "nbformat_minor": 5
}
{
 "cells": [
  {
   "cell_type": "markdown",
   "id": "6ea7f1e9",
   "metadata": {},
   "source": [
    "(basics-variables)=\n",
    "# Variables and basic data types\n",
    "\n",
    ":::{tip}\n",
    "**What you’ll learn**\n",
    "- What variables and datatypes are\n",
    "- Variables and datatypes in Python\n",
    "- Basic data structures like lists and dictionaries\n",
    "- Operations on datatypes and variables\n",
    ":::\n",
    "\n",
    "\"In computer programming, a variable is an abstract storage location paired with an associated symbolic name, which contains some known or unknown quantity of data or object referred to as a value; or in simpler terms, a variable is a named container for a particular set of bits or type of data (like integer, float, string, etc...)\"  - or so says [Wikipedia](https://en.wikipedia.org/wiki/Variable_(computer_science)) cited from a proper programming book. \n",
    "\n",
    "For our purposes as scientists and ecological economists, it is important to understand that variables help you store quantities that represent something about the real-world and you can do computations with them that provide you useful insights. \n",
    "\n",
    "For example, in the previous sections we already encountered instances of variables. I say instance because they took on a concrete value - in our case the fact that the total primary energy consumption for the USA was 100 Exajoule. \n",
    "\n",
    "let us abbreviate total primary energy consumption to TPEC, then we can define a variable \n",
    "\n",
    "```python\n",
    "tpec_USA = 100 # unit is Exajoule (EJ)\n",
    "```\n",
    "And you just learned another very very important fact-of-life about programming: COMMENT YOUR CODE. A comment in python is the annotation after the symbol #. This is written into your code cell but not interpreted by the computer as code. It is very important however that others, and even yourself, can understand your own code. You will notice in time, when you come back a week later, to code you have previously written, you will be grateful to your past self for commenting adequately. \n",
    "\n",
    "So before going through lots of different variables and data types to clarify what is \"variable\" about the tpec_USA above: We could theoretically do some computation with it say this is again the USA energy consumption for 2024 and we know this grows by 0.5% per year. Then we could make the following calculation to know about 2025.\n",
    "\n",
    "```python\n",
    "tpec_USA = tpec_USA * 1.005 \n",
    "```\n",
    "So we just used the variable tpec_USA to compute a new instance of itself. This is the kind of thing that really makes it \"variable\".\n",
    "\n",
    "Here is a list of the most common variable types\n",
    "\n",
    "```python\n",
    "42,                        # int: number of households sampled\n",
    "36.5,                      # float: emissions in MtCO₂    \n",
    "is_active = True,          # bool: policy is active   \n",
    "\"Austria\",                 # str: country name\n",
    "```\n",
    "What other value can the variable is_active assume?\n",
    "\n",
    "The int type is an integer, the float type is number that goes with decimal places, the boolean value stores a binary truth value and the string variable stores text basically. \n",
    "\n",
    "You can always check the type of variable this way\n",
    "\n"
   ]
  },
  {
   "cell_type": "code",
   "execution_count": 1,
   "id": "e18dc0b3",
   "metadata": {},
   "outputs": [
    {
     "data": {
      "text/plain": [
       "bool"
      ]
     },
     "execution_count": 1,
     "metadata": {},
     "output_type": "execute_result"
    }
   ],
   "source": [
    "\n",
    "is_active = True\n",
    "type(is_active)"
   ]
  },
  {
   "cell_type": "markdown",
   "id": "d7cd05ce",
   "metadata": {},
   "source": [
    "Now we are moving to more complex data types. This means we will now treat tuples, lists, sets and dictionaries.\n",
    "\n",
    "Tuples are fixed-size records. For typical use cases: coordinates, any immutable bundle."
   ]
  },
  {
   "cell_type": "code",
   "execution_count": 2,
   "id": "12f4bb1a",
   "metadata": {},
   "outputs": [],
   "source": [
    "coords = (47.3769, 8.5417)  # Zurich lat, lon\n",
    "policy_tuple = (\"carbon_tax\", 85.0, \"EUR_per_tCO2\") # description of a fixed climate policy"
   ]
  },
  {
   "cell_type": "markdown",
   "id": "0a8201a1",
   "metadata": {},
   "source": [
    "Lists are ordered collections of all kinds of objects or variables and, in my experience, one of the or maybe the most important datatype for you to understand very well. \n",
    "\n",
    "A typical example list would be for instance as follows. At the same time we go over some standard commands in Python that often come when analysing or using lists. Please make sure you reproduce all these in your local environments! "
   ]
  },
  {
   "cell_type": "code",
   "execution_count": 3,
   "id": "201b12db",
   "metadata": {},
   "outputs": [
    {
     "name": "stdout",
     "output_type": "stream",
     "text": [
      "[80, 82, 86, 87, 89, 75, 80, 82, 84, 90]\n",
      "80\n",
      "90\n",
      "[80, 82, 86]\n",
      "[87, 89, 75]\n",
      "90\n"
     ]
    }
   ],
   "source": [
    "years = list(range(2010, 2020)) # 2010..2020, this command creates a list of integers in the range from 2010 to 2019\n",
    "energy_consumption_over_years_USA = [80, 82, 86, 87, 89, 75, 80, 82, 84] # in EJ, numbers only illustrative\n",
    "energy_consumption_over_years_USA.append(90) # this adds the year 2020 with 90 EJ consumption\n",
    "len(energy_consumption_over_years_USA) # this tells how many entries in the list?\n",
    "print(energy_consumption_over_years_USA) # print the list\n",
    "print(energy_consumption_over_years_USA[0]) # first entry of the list   \n",
    "print(energy_consumption_over_years_USA[-1]) # last entry of the list\n",
    "print(energy_consumption_over_years_USA[0:3]) # first three entries of the list\n",
    "print(energy_consumption_over_years_USA[3:6]) # entries 3 to 5 of the list\n",
    "sum(energy_consumption_over_years_USA) # sum of all entries in the list\n",
    "min(energy_consumption_over_years_USA) # minimum value in the list\n",
    "print(max(energy_consumption_over_years_USA)) # maximum value in the list"
   ]
  },
  {
   "cell_type": "markdown",
   "id": "e03b8e9b",
   "metadata": {},
   "source": [
    ":::{admonition} Indexing the first element in a list (or any data structure)\n",
    "As noted from above the first element of a datastructure is always indexed 0 in Python. Be aware of this. \n",
    ":::"
   ]
  },
  {
   "cell_type": "markdown",
   "id": "1a92ca74",
   "metadata": {},
   "source": [
    "As noted from above the first element of a datastructure is always indexed 0 in Python. Be aware of this. \n",
    "\n",
    "Here are two exercises for you: \n",
    "\n",
    "1) What is the average energy consumption of the USA based on the list above? And how do you calculate this with some of the code from above? Only use commands that appear above. \n",
    "2) Print the 2nd to the last element of the list. "
   ]
  },
  {
   "cell_type": "markdown",
   "id": "0a4408ea",
   "metadata": {},
   "source": [
    "```{dropdown} Solution\n",
    "```python\n",
    "average_energy_consumption = sum(energy_consumption_over_years_USA) / len(energy_consumption_over_years_USA)\n",
    "print(\"Average energy consumption USA 2010-2020:\", average_energy_consumption, \"EJ\")\n",
    "\n",
    "print(energy_consumption_over_years_USA[1:]) ## second to last leaving the space after the : empty \n",
    "```"
   ]
  },
  {
   "cell_type": "markdown",
   "id": "2c5c587a",
   "metadata": {},
   "source": [
    "Another very important data structure is the dictionary (often abbreviated dict). A dictionary is a bit like list but the key difference (you will see this is a pun) here is that its structure does not derive from the order of elements within but from the fact that every element can be found by its *key* which you can freely choose. Technically in a list also every element has a key but they are just the number indices of its position and you cannot define them. If you are interested in going a bit deeper into the differences and commonalities you always can find cool programming knowledge on [geekforgeeks](https://www.geeksforgeeks.org/python/difference-between-list-and-dictionary-in-python/). \n",
    "\n",
    "An example dictionary holding energy consumption per person could look like the following for example:"
   ]
  },
  {
   "cell_type": "code",
   "execution_count": 4,
   "id": "20b88a8a",
   "metadata": {},
   "outputs": [
    {
     "name": "stdout",
     "output_type": "stream",
     "text": [
      "Energy per capita in Austria: 130.0 GJ/person\n"
     ]
    }
   ],
   "source": [
    "# Dictionary: country → energy consumption per person (GJ/person, realistic illustrative data)\n",
    "energy_per_capita = {\n",
    "    \"Switzerland\": 120.0,\n",
    "    \"Austria\": 130.0,\n",
    "    \"Germany\": 150.0,\n",
    "    \"United States\": 300.0,\n",
    "    \"India\": 25.0\n",
    "}\n",
    "\n",
    "# Example usage\n",
    "print(\"Energy per capita in Austria:\", energy_per_capita[\"Austria\"], \"GJ/person\")"
   ]
  },
  {
   "cell_type": "markdown",
   "id": "84e11daf",
   "metadata": {},
   "source": [
    "You cannot select element any longer in the familiar way like in a list. You can see in the following. This will throw an error message - another fact-of-life in programming you will have to become really familiar with."
   ]
  },
  {
   "cell_type": "code",
   "execution_count": 5,
   "id": "e331e129",
   "metadata": {},
   "outputs": [
    {
     "ename": "KeyError",
     "evalue": "0",
     "output_type": "error",
     "traceback": [
      "\u001b[1;31m----------------------------------------------------------\u001b[0m",
      "\u001b[1;31mKeyError\u001b[0m                 Traceback (most recent call last)",
      "Cell \u001b[1;32mIn[5], line 1\u001b[0m\n\u001b[1;32m----> 1\u001b[0m \u001b[43menergy_per_capita\u001b[49m\u001b[43m[\u001b[49m\u001b[38;5;241;43m0\u001b[39;49m\u001b[43m]\u001b[49m\n",
      "\u001b[1;31mKeyError\u001b[0m: 0"
     ]
    }
   ],
   "source": [
    "energy_per_capita[0]"
   ]
  },
  {
   "cell_type": "markdown",
   "id": "327353bf",
   "metadata": {},
   "source": [
    "This error specifically tells you it could not find the key \"0\". But you can do it this way by using an existing key."
   ]
  },
  {
   "cell_type": "code",
   "execution_count": null,
   "id": "06a6888e",
   "metadata": {},
   "outputs": [
    {
     "data": {
      "text/plain": [
       "120.0"
      ]
     },
     "execution_count": 18,
     "metadata": {},
     "output_type": "execute_result"
    }
   ],
   "source": [
    "energy_per_capita[\"Switzerland\"]"
   ]
  },
  {
   "cell_type": "markdown",
   "id": "4ff342ea",
   "metadata": {},
   "source": [
    ":::{tip}\n",
    "**Errors**\n",
    "- Errors are the most common coding experience ever. Get comfortable with it that you constantly have to correct errors. \n",
    "- It is entirely normal - and the process is called debugging (because bug is another word for error). \n",
    ":::"
   ]
  },
  {
   "cell_type": "markdown",
   "id": "3f911cdc",
   "metadata": {},
   "source": [
    "So now we know already everything we wanted to know about variables, datatypes and structures. However, none of this will stick (in your minds) if we do not create better understanding through plenty of exercises. So let us dive right in and learn some more interesting things alongside. \n",
    "\n",
    "A typology of energy units used in ecological economics and energy economics could be for example: \n",
    "\n",
    "## Common energy units (quick reference)\n",
    "\n",
    "- **Joule (J)**: SI base unit of energy.  \n",
    "  - $1 \\,\\text{kJ} = 10^{3} \\,\\text{J}$  \n",
    "  - $1 \\,\\text{MJ} = 10^{6} \\,\\text{J}$  \n",
    "  - $1 \\,\\text{GJ} = 10^{9} \\,\\text{J}$  \n",
    "  - $1 \\,\\text{TJ} = 10^{12} \\,\\text{J}$\n",
    "\n",
    "- **Watt-hour (Wh)**: convenient for electricity.  \n",
    "  - $1 \\,\\text{Wh} = 3600 \\,\\text{J}$ (because $1 \\,\\text{W} = 1 \\,\\text{J/s}$ and $1 \\,\\text{h} = 3600 \\,\\text{s}$).  \n",
    "  - $1 \\,\\text{kWh} = 10^{3} \\,\\text{Wh} = 3.6 \\,\\text{MJ}$  \n",
    "  - $1 \\,\\text{MWh} = 10^{6} \\,\\text{Wh} = 3.6 \\,\\text{GJ}$\n",
    "\n",
    "- **British thermal unit (BTU)**: common in some datasets, especially for fuels.  \n",
    "  - $1 \\,\\text{BTU} \\approx 1055.056 \\,\\text{J}$  \n",
    "  - $1 \\,\\text{MMBtu} = 10^{6} \\,\\text{BTU} \\approx 1.055056 \\,\\text{GJ}$\n",
    "\n",
    "- **Tonne of oil equivalent (toe)**: aggregate energy benchmark.  \n",
    "  - $1 \\,\\text{toe} = 41.868 \\,\\text{GJ} \\approx 11.63 \\,\\text{MWh}$"
   ]
  },
  {
   "cell_type": "markdown",
   "id": "1e8b3fe4",
   "metadata": {},
   "source": [
    "Now given what you have learned in the previous two sections conduct the following exercises:\n",
    "\n",
    "1) Transform 1 million kWH and 1000 MWh to Terajoule and store the conversion factors as variables. \n",
    "2) Make a dictionary that holds the conversion factors with appropriate keys.\n",
    "3) Print the entries from the dictionary and store the numeric values in a list instead. "
   ]
  },
  {
   "cell_type": "code",
   "execution_count": null,
   "id": "1dc494fc",
   "metadata": {},
   "outputs": [],
   "source": [
    "\n",
    "# ==============================================\n",
    "# Energy unit conversions: kWh / MWh → TJ\n",
    "# ==============================================\n",
    "\n",
    "# Conversion factors (basic)\n",
    "KWH_TO_TJ = 3.6e-9   # 1 kWh = 3.6 × 10⁻⁹ TJ\n",
    "MWH_TO_TJ = 3.6e-6   # 1 MWh = 3.6 × 10⁻⁶ TJ\n",
    "\n",
    "# 1) Transform given values\n",
    "value_kwh = 1_000_000 * KWH_TO_TJ   # 1 million kWh to TJ\n",
    "value_mwh = 1000 * MWH_TO_TJ        # 1000 MWh to TJ\n",
    "\n",
    "# 2) Dictionary with conversion factors\n",
    "conversion_dict = {\n",
    "    \"kWh_to_TJ\": KWH_TO_TJ,\n",
    "    \"MWh_to_TJ\": MWH_TO_TJ\n",
    "}\n",
    "\n",
    "# 3) Print results directly\n",
    "print(\"Conversion factors dictionary:\", conversion_dict)\n",
    "print(\"This is conversion factor 1: \", conversion_dict[\"kWh_to_TJ\"], \"TJ per kWh\")\n",
    "print(\"This is conversion factor 1: \", conversion_dict[\"MWh_to_TJ\"], \"TJ per MWh\")\n",
    "\n",
    "# Store numeric values in a list\n",
    "values_list = [value_kwh, value_mwh]\n",
    "print(\"Numeric values list:\", values_list)"
   ]
  }
 ],
 "metadata": {
  "kernelspec": {
   "display_name": "Python 3",
   "language": "python",
   "name": "python3"
  },
  "language_info": {
   "codemirror_mode": {
    "name": "ipython",
    "version": 3
   },
   "file_extension": ".py",
   "mimetype": "text/x-python",
   "name": "python",
   "nbconvert_exporter": "python",
   "pygments_lexer": "ipython3",
   "version": "3.11.7"
  }
 },
 "nbformat": 4,
 "nbformat_minor": 5
}
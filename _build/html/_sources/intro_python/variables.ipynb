{
 "cells": [
  {
   "cell_type": "markdown",
   "id": "6ea7f1e9",
   "metadata": {},
   "source": [
    "(basics-variables)=\n",
    "# Variables and basic data types\n",
    "\n",
    "\"In computer programming, a variable is an abstract storage location paired with an associated symbolic name, which contains some known or unknown quantity of data or object referred to as a value; or in simpler terms, a variable is a named container for a particular set of bits or type of data (like integer, float, string, etc...)\"  - or so says [Wikipedia](https://en.wikipedia.org/wiki/Variable_(computer_science)) cited from proper programming book. \n",
    "\n",
    "For our purposes as scientists and ecological economists, it is important to understand that variables help you store quantities that represent something about the real-world and you can do computations with them that provide you useful insights. \n",
    "\n",
    "For example, in the previous sections we already encountered instances of variables. I say instance because they took on a concrete value - in our case the fact that the total primary energy consumption for the USA was 100 Exajoule. \n",
    "\n",
    "let us abbreviate total primary energy consumption to TPEC, then we can define a variable \n",
    "\n",
    "```python\n",
    "tpec_USA = 100 # unit is Exajoule\n",
    "```\n",
    "And you just learned another very very important fact-of-life about programming: COMMENT YOUR CODE. A comment in python is the annotation after the symbol #. This is written into your code cell but not interpreted by the computer as code. It is very important however that others, and even yourself, can understand your own code. You will notice in time, when you come back a week later, to code you have previously written, you will be grateful to your past self for commenting adequately. \n",
    "\n",
    "So before going through lots of different variables and data types to clarify what is \"variable\" about the tpec_USA above: We could theoretically do some computation with it say this is again the USA energy consumption for 2024 and we know this grows by 0.5% per year. Then we could make the following calculation to know about 2025.\n",
    "\n",
    "```python\n",
    "tpec_USA = tpec_USA * 1.005 \n",
    "```\n",
    "So we just used the variable tpec_USA to compute a new instance of itself. This is the kind of thing that really makes it \"variable\".\n",
    "\n",
    "Here is a list of the most common variable types\n",
    "\n",
    "```python\n",
    "42,                        # int: number of households sampled\n",
    "36.5,                      # float: emissions in MtCO₂    \n",
    "is_active = True,          # bool: policy is active   \n",
    "\"Austria\",                 # str: country name\n",
    "```\n",
    "What other value can the variable is_active assume?\n",
    "\n",
    "The int type is an integer, the float type is number that goes with decimal places, the boolean value stores a binary truth value and the string variable stores text basically. \n",
    "\n",
    "You can always check the type of variable this way\n",
    "\n"
   ]
  },
  {
   "cell_type": "code",
   "execution_count": null,
   "id": "e18dc0b3",
   "metadata": {},
   "outputs": [
    {
     "data": {
      "text/plain": [
       "bool"
      ]
     },
     "execution_count": 1,
     "metadata": {},
     "output_type": "execute_result"
    }
   ],
   "source": [
    "\n",
    "is_active = True\n",
    "type(is_active)\n"
   ]
  }
 ],
 "metadata": {
  "kernelspec": {
   "display_name": "Python 3",
   "language": "python",
   "name": "python3"
  },
  "language_info": {
   "name": "python",
   "version": "3.11.7"
  }
 },
 "nbformat": 4,
 "nbformat_minor": 5
}

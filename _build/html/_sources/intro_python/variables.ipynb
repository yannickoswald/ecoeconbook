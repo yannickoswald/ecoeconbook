{
 "cells": [
  {
   "cell_type": "markdown",
   "id": "6ea7f1e9",
   "metadata": {},
   "source": [
    "(basics-variables)=\n",
    "# Variables and basic data types\n",
    "\n",
    ":::{tip}\n",
    "**What you’ll learn**\n",
    "- What variables and datatypes are\n",
    "- variables and datatypes in Python\n",
    "- Operations on datatypes and variables\n",
    ":::\n",
    "\n",
    "\"In computer programming, a variable is an abstract storage location paired with an associated symbolic name, which contains some known or unknown quantity of data or object referred to as a value; or in simpler terms, a variable is a named container for a particular set of bits or type of data (like integer, float, string, etc...)\"  - or so says [Wikipedia](https://en.wikipedia.org/wiki/Variable_(computer_science)) cited from a proper programming book. \n",
    "\n",
    "For our purposes as scientists and ecological economists, it is important to understand that variables help you store quantities that represent something about the real-world and you can do computations with them that provide you useful insights. \n",
    "\n",
    "For example, in the previous sections we already encountered instances of variables. I say instance because they took on a concrete value - in our case the fact that the total primary energy consumption for the USA was 100 Exajoule. \n",
    "\n",
    "let us abbreviate total primary energy consumption to TPEC, then we can define a variable \n",
    "\n",
    "```python\n",
    "tpec_USA = 100 # unit is Exajoule (EJ)\n",
    "```\n",
    "And you just learned another very very important fact-of-life about programming: COMMENT YOUR CODE. A comment in python is the annotation after the symbol #. This is written into your code cell but not interpreted by the computer as code. It is very important however that others, and even yourself, can understand your own code. You will notice in time, when you come back a week later, to code you have previously written, you will be grateful to your past self for commenting adequately. \n",
    "\n",
    "So before going through lots of different variables and data types to clarify what is \"variable\" about the tpec_USA above: We could theoretically do some computation with it say this is again the USA energy consumption for 2024 and we know this grows by 0.5% per year. Then we could make the following calculation to know about 2025.\n",
    "\n",
    "```python\n",
    "tpec_USA = tpec_USA * 1.005 \n",
    "```\n",
    "So we just used the variable tpec_USA to compute a new instance of itself. This is the kind of thing that really makes it \"variable\".\n",
    "\n",
    "Here is a list of the most common variable types\n",
    "\n",
    "```python\n",
    "42,                        # int: number of households sampled\n",
    "36.5,                      # float: emissions in MtCO₂    \n",
    "is_active = True,          # bool: policy is active   \n",
    "\"Austria\",                 # str: country name\n",
    "```\n",
    "What other value can the variable is_active assume?\n",
    "\n",
    "The int type is an integer, the float type is number that goes with decimal places, the boolean value stores a binary truth value and the string variable stores text basically. \n",
    "\n",
    "You can always check the type of variable this way\n",
    "\n"
   ]
  },
  {
   "cell_type": "code",
   "execution_count": 12,
   "id": "e18dc0b3",
   "metadata": {},
   "outputs": [
    {
     "data": {
      "text/plain": [
       "bool"
      ]
     },
     "execution_count": 12,
     "metadata": {},
     "output_type": "execute_result"
    }
   ],
   "source": [
    "\n",
    "is_active = True\n",
    "type(is_active)"
   ]
  },
  {
   "cell_type": "markdown",
   "id": "d7cd05ce",
   "metadata": {},
   "source": [
    "Now we are moving to more complex data types. This means we will now treat tuples, lists, sets and dictionaries.\n",
    "\n",
    "Tuples are fixed-size records. For typical use cases: coordinates, any immutable bundle."
   ]
  },
  {
   "cell_type": "code",
   "execution_count": 13,
   "id": "12f4bb1a",
   "metadata": {},
   "outputs": [],
   "source": [
    "coords = (47.3769, 8.5417)  # Zurich lat, lon\n",
    "policy_tuple = (\"carbon_tax\", 85.0, \"EUR_per_tCO2\") # description of a fixed climate policy"
   ]
  },
  {
   "cell_type": "markdown",
   "id": "0a8201a1",
   "metadata": {},
   "source": [
    "Lists are ordered collections of all kinds of objects or variables and, in my experience, one of the or maybe the most important datatype for you to understand very well. \n",
    "\n",
    "A typical example list would be for instance as follows. At the same time we go over some standard commands in Python that often come when analysing or using lists. Please make sure you reproduce all these in your local environments! "
   ]
  },
  {
   "cell_type": "code",
   "execution_count": 14,
   "id": "201b12db",
   "metadata": {},
   "outputs": [
    {
     "name": "stdout",
     "output_type": "stream",
     "text": [
      "[80, 82, 86, 87, 89, 75, 80, 82, 84, 90]\n",
      "80\n",
      "90\n",
      "[80, 82, 86]\n",
      "[87, 89, 75]\n",
      "90\n"
     ]
    }
   ],
   "source": [
    "years = list(range(2010, 2020)) # 2010..2020, this command creates a list of integers in the range from 2010 to 2019\n",
    "energy_consumption_over_years_USA = [80, 82, 86, 87, 89, 75, 80, 82, 84] # in EJ, numbers only illustrative\n",
    "energy_consumption_over_years_USA.append(90) # this adds the year 2020 with 90 EJ consumption\n",
    "len(energy_consumption_over_years_USA) # this tells how many entries in the list?\n",
    "print(energy_consumption_over_years_USA) # print the list\n",
    "print(energy_consumption_over_years_USA[0]) # first entry of the list   \n",
    "print(energy_consumption_over_years_USA[-1]) # last entry of the list\n",
    "print(energy_consumption_over_years_USA[0:3]) # first three entries of the list\n",
    "print(energy_consumption_over_years_USA[3:6]) # entries 3 to 5 of the list\n",
    "sum(energy_consumption_over_years_USA) # sum of all entries in the list\n",
    "min(energy_consumption_over_years_USA) # minimum value in the list\n",
    "print(max(energy_consumption_over_years_USA)) # maximum value in the list"
   ]
  },
  {
   "cell_type": "markdown",
   "id": "e03b8e9b",
   "metadata": {},
   "source": [
    ":::{admonition} Indexing the first element in a list (or any data structure)\n",
    "As noted from above the first element of a datastructure is always indexed 0 in Python. Be aware of this. \n",
    ":::"
   ]
  },
  {
   "cell_type": "markdown",
   "id": "1a92ca74",
   "metadata": {},
   "source": [
    "As noted from above the first element of a datastructure is always indexed 0 in Python. Be aware of this. \n",
    "\n",
    "Here are two exercises for you: \n",
    "\n",
    "1) What is the average energy consumption of the USA based on the list above? And how do you calculate this with some of the code from above? Only use commands that appear above. \n",
    "2) Print the 2nd to the last element of the list. "
   ]
  },
  {
   "cell_type": "markdown",
   "id": "0a4408ea",
   "metadata": {},
   "source": [
    "```{dropdown} Solution\n",
    "```python\n",
    "average_energy_consumption = sum(energy_consumption_over_years_USA) / len(energy_consumption_over_years_USA)\n",
    "print(\"Average energy consumption USA 2010-2020:\", average_energy_consumption, \"EJ\")\n",
    "```"
   ]
  }
 ],
 "metadata": {
  "kernelspec": {
   "display_name": "Python 3",
   "language": "python",
   "name": "python3"
  },
  "language_info": {
   "codemirror_mode": {
    "name": "ipython",
    "version": 3
   },
   "file_extension": ".py",
   "mimetype": "text/x-python",
   "name": "python",
   "nbconvert_exporter": "python",
   "pygments_lexer": "ipython3",
   "version": "3.11.7"
  }
 },
 "nbformat": 4,
 "nbformat_minor": 5
}

{
 "cells": [
  {
   "cell_type": "markdown",
   "id": "bbb2d905",
   "metadata": {},
   "source": [
    "(basics-controlflow)=\n",
    "# Control flow: `if` statements and loops\n",
    "\n",
    ":::{tip}\n",
    "**What you’ll learn**\n",
    "- What control flow means in programming  \n",
    "- How to make decisions with `if`, `elif`, and `else`  \n",
    "- How to repeat operations with `for` and `while` loops  \n",
    "- How to use list comprehensions for cleaner, faster code  \n",
    ":::\n",
    "\n",
    "---\n",
    "\n",
    "### Introduction\n",
    "\n",
    "In programming, **control flow** is the order in which instructions are executed.  \n",
    "Up to now, Python has simply followed your code line by line.  \n",
    "But real programs need to make **decisions** and **repeat actions** —  \n",
    "for example, checking which countries exceed a CO₂ threshold,  \n",
    "or calculating average growth for many countries at once.\n",
    "\n",
    "---\n",
    "\n",
    "## 1. Conditional statements: `if`, `elif`, `else`\n",
    "\n",
    "Sometimes, you only want certain code to run *if* a condition is true.\n",
    "\n",
    "Example — suppose we have data on per-capita energy use (in gigajoules per person):"
   ]
  },
  {
   "cell_type": "code",
   "execution_count": 3,
   "id": "b595bb7e",
   "metadata": {},
   "outputs": [],
   "source": [
    "\n",
    "energy_GJ = {\n",
    "    \"Switzerland\": 120,\n",
    "    \"Austria\": 150,\n",
    "    \"Germany\": 180,\n",
    "    \"United States\": 300,\n",
    "    \"India\": 40,\n",
    "}\n"
   ]
  },
  {
   "cell_type": "markdown",
   "id": "e01df3cf",
   "metadata": {},
   "source": [
    "We might want to categorize countries as **high**, **medium**, or **low** energy consumers:"
   ]
  },
  {
   "cell_type": "code",
   "execution_count": 4,
   "id": "8b000717",
   "metadata": {},
   "outputs": [
    {
     "name": "stdout",
     "output_type": "stream",
     "text": [
      "Austria is a medium-energy economy.\n"
     ]
    }
   ],
   "source": [
    "country = \"Austria\"\n",
    "energy = energy_GJ[country]\n",
    "\n",
    "if energy > 250:\n",
    "    print(country, \"is a high-energy economy.\")\n",
    "elif energy > 100:\n",
    "    print(country, \"is a medium-energy economy.\")\n",
    "else:\n",
    "    print(country, \"is a low-energy economy.\")"
   ]
  },
  {
   "cell_type": "markdown",
   "id": "f6f8b02f",
   "metadata": {},
   "source": [
    "#### Explanation\n",
    "- The `if` block runs only if the condition after `if` is true.\n",
    "- The `elif` (“else if”) block tests another condition.\n",
    "- The `else` block runs if none of the above conditions were met.\n",
    "---\n",
    "\n",
    "## 2. Repetition: `for` loops\n",
    "\n",
    "In ecological-economic modeling, we often need to repeat calculations across many countries, sectors, or time steps.  \n",
    "For this we use loops — the simplest is the `for` loop.\n",
    "\n",
    "Let’s compute an estimated **energy intensity** (energy per GDP) for each country."
   ]
  },
  {
   "cell_type": "code",
   "execution_count": null,
   "id": "a30c3884",
   "metadata": {},
   "outputs": [],
   "source": [
    "gdp_per_capita = {\n",
    "    \"Switzerland\": 95000,\n",
    "    \"Austria\": 70000,\n",
    "    \"Germany\": 80000,\n",
    "    \"United States\": 85000,\n",
    "    \"India\": 12000,\n",
    "}\n",
    "\n",
    "for country in energy_GJ:\n",
    "    ei = energy_GJ[country] / gdp_per_capita[country]\n",
    "    print(country, \"has energy intensity of\", round(ei, 3), \"GJ per $GDP\")"
   ]
  },
  {
   "cell_type": "markdown",
   "id": "09d5637a",
   "metadata": {},
   "source": [
    "#### Explanation\n",
    "- `for` iterates *over* the keys of the dictionary `energy_GJ`.\n",
    "- In each iteration, `country` takes one key.\n",
    "- You can perform any computation inside the loop.\n",
    "\n",
    "---\n",
    "\n",
    "### Looping over lists\n",
    "\n",
    "If you had a list of countries instead:"
   ]
  },
  {
   "cell_type": "code",
   "execution_count": null,
   "id": "c4b46262",
   "metadata": {},
   "outputs": [],
   "source": [
    "countries = [\"Switzerland\", \"Austria\", \"Germany\", \"United States\", \"India\"]\n",
    "\n",
    "for c in countries:\n",
    "    print(\"Analyzing\", c)"
   ]
  },
  {
   "cell_type": "markdown",
   "id": "c9a85b8d",
   "metadata": {},
   "source": [
    "This will print each country name — a simple but powerful idea.  \n",
    "Most data analyses, even large models, boil down to loops like this.\n",
    "\n",
    "---\n",
    "\n",
    "## 3. While loops\n",
    "\n",
    "`while` loops repeat **as long as** a condition is true.\n",
    "\n",
    "Example: imagine simulating the effect of a carbon tax increasing yearly  \n",
    "until emissions fall below a certain threshold."
   ]
  },
  {
   "cell_type": "code",
   "execution_count": null,
   "id": "3bd955be",
   "metadata": {},
   "outputs": [],
   "source": [
    "emissions = 100  # MtCO2\n",
    "tax_rate = 10    # $ per ton\n",
    "target = 60\n",
    "\n",
    "while emissions > target:\n",
    "    emissions *= 0.95  # assume emissions fall 5% per year\n",
    "    tax_rate += 2\n",
    "    print(f\"Tax rate: ${tax_rate}, Emissions: {round(emissions, 2)} MtCO2\")\n",
    "\n",
    "print(\"Target reached.\")"
   ]
  },
  {
   "cell_type": "markdown",
   "id": "03c911d7",
   "metadata": {},
   "source": [
    "This simulates policy adjustment — something often seen in climate policy modeling:\n",
    "*if the goal is not yet reached, continue strengthening the policy.*\n",
    "\n",
    "---\n",
    "\n",
    "## 4. List comprehensions (short, elegant loops)\n",
    "\n",
    "List comprehensions are a concise way to build new lists from existing data.\n",
    "\n",
    "Suppose you want to list all **high-energy** countries (those above 150 GJ per capita):\n"
   ]
  },
  {
   "cell_type": "code",
   "execution_count": null,
   "id": "0da87ea8",
   "metadata": {},
   "outputs": [],
   "source": [
    "high_energy = [c for c, e in energy_GJ.items() if e > 150]\n",
    "print(high_energy)"
   ]
  },
  {
   "cell_type": "markdown",
   "id": "20ebd67a",
   "metadata": {},
   "source": [
    "This one-liner does the same as a full loop like:"
   ]
  },
  {
   "cell_type": "code",
   "execution_count": null,
   "id": "e894bf77",
   "metadata": {},
   "outputs": [],
   "source": [
    "high_energy = []\n",
    "for c, e in energy_GJ.items():\n",
    "    if e > 150:\n",
    "        high_energy.append(c)"
   ]
  },
  {
   "cell_type": "markdown",
   "id": "9ef4a7fb",
   "metadata": {},
   "source": [
    "List comprehensions are not only shorter but often more efficient —  \n",
    "and they make your code more readable once you get used to them.\n",
    "\n",
    "---\n",
    "\n",
    "## 5. Combining `if` and loops: simple data analysis\n",
    "\n",
    "Let’s analyze how many countries in our small dataset fall into each category."
   ]
  },
  {
   "cell_type": "code",
   "execution_count": null,
   "id": "b66f9d86",
   "metadata": {},
   "outputs": [],
   "source": [
    "high = []\n",
    "medium = []\n",
    "low = []\n",
    "\n",
    "for c, e in energy_GJ.items():\n",
    "    if e > 250:\n",
    "        high.append(c)\n",
    "    elif e > 100:\n",
    "        medium.append(c)\n",
    "    else:\n",
    "        low.append(c)\n",
    "\n",
    "print(\"High-energy:\", high)\n",
    "print(\"Medium-energy:\", medium)\n",
    "print(\"Low-energy:\", low)"
   ]
  },
  {
   "cell_type": "markdown",
   "id": "87ce3941",
   "metadata": {},
   "source": [
    "This is already a **mini data classification algorithm** —  \n",
    "something often done in larger datasets, e.g., grouping countries  \n",
    "by carbon intensity or by income class in input–output models.\n",
    "\n",
    "### 🧩 Exercise\n",
    "\n",
    "Use the dataset below to compute which countries are **above** or **below average** in energy use."
   ]
  },
  {
   "cell_type": "code",
   "execution_count": null,
   "id": "10816e62",
   "metadata": {},
   "outputs": [],
   "source": [
    "energy_GJ = {\n",
    "    \"Switzerland\": 120,\n",
    "    \"Austria\": 150,\n",
    "    \"Germany\": 180,\n",
    "    \"United States\": 300,\n",
    "    \"India\": 40,\n",
    "}"
   ]
  },
  {
   "cell_type": "code",
   "execution_count": null,
   "id": "2e73a60c",
   "metadata": {
    "tags": [
     "hide-cell"
    ]
   },
   "outputs": [],
   "source": [
    "\n",
    "avg_energy = sum(energy_GJ.values()) / len(energy_GJ)\n",
    "\n",
    "above = [c for c, e in energy_GJ.items() if e > avg_energy]\n",
    "below = [c for c, e in energy_GJ.items() if e <= avg_energy]\n",
    "\n",
    "print(\"Average energy per capita:\", round(avg_energy, 1))\n",
    "print(\"Above-average:\", above)\n",
    "print(\"Below-average:\", below)"
   ]
  },
  {
   "cell_type": "markdown",
   "id": "9ad4a894",
   "metadata": {},
   "source": [
    ":::{dropdown} 💡 *Solution explanation*\n",
    "- The `sum()` and `len()` functions compute the average.  \n",
    "- The list comprehensions classify countries efficiently.  \n",
    "- Try adding new countries to the dictionary and re-running the cell.\n",
    ":::"
   ]
  },
  {
   "cell_type": "markdown",
   "id": "d8111d37",
   "metadata": {},
   "source": [
    "\n",
    "### Summary\n",
    "\n",
    "| Concept | Description | Example |\n",
    "|----------|--------------|----------|\n",
    "| `if` / `elif` / `else` | Conditional logic | classify countries by energy use |\n",
    "| `for` loop | Iterate over sequences | compute energy intensity for all |\n",
    "| `while` loop | Repeat while condition holds | increase carbon tax until target |\n",
    "| List comprehension | Compact way to create lists | `[c for c, e in data.items() if e>150]` |\n",
    "\n",
    "---\n",
    "\n",
    "✅ **Key takeaway:**  \n",
    "Control flow lets you tell your code *when* and *how often* to do something.  \n",
    "\n",
    "---\n",
    "\n",
    "### Next steps\n",
    "\n",
    "In the next section, we’ll learn how to package these repetitive structures  \n",
    "into **functions** — reusable building blocks that make your models cleaner and easier to expand."
   ]
  }
 ],
 "metadata": {
  "kernelspec": {
   "display_name": "Python 3",
   "language": "python",
   "name": "python3"
  },
  "language_info": {
   "codemirror_mode": {
    "name": "ipython",
    "version": 3
   },
   "file_extension": ".py",
   "mimetype": "text/x-python",
   "name": "python",
   "nbconvert_exporter": "python",
   "pygments_lexer": "ipython3",
   "version": "3.11.7"
  }
 },
 "nbformat": 4,
 "nbformat_minor": 5
}
